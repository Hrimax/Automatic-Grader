{
  "nbformat": 4,
  "nbformat_minor": 0,
  "metadata": {
    "colab": {
      "name": "Group53.ipynb",
      "provenance": [],
      "collapsed_sections": [],
      "authorship_tag": "ABX9TyOorjv1eHR+CX+0bAczGzlk",
      "include_colab_link": true
    },
    "kernelspec": {
      "name": "python3",
      "display_name": "Python 3"
    },
    "language_info": {
      "name": "python"
    }
  },
  "cells": [
    {
      "cell_type": "markdown",
      "metadata": {
        "id": "view-in-github",
        "colab_type": "text"
      },
      "source": [
        "<a href=\"https://colab.research.google.com/github/Hrimax/Automatic-Grader/blob/main/autogr.ipynb\" target=\"_parent\"><img src=\"https://colab.research.google.com/assets/colab-badge.svg\" alt=\"Open In Colab\"/></a>"
      ]
    },
    {
      "cell_type": "code",
      "execution_count": null,
      "metadata": {
        "id": "1pOJFHXIlx4c",
        "colab": {
          "base_uri": "https://localhost:8080/"
        },
        "outputId": "021c1c50-5fa7-4c59-84a1-a56fc965ca99"
      },
      "outputs": [
        {
          "output_type": "stream",
          "name": "stdout",
          "text": [
            "[nltk_data] Downloading package stopwords to /root/nltk_data...\n",
            "[nltk_data]   Package stopwords is already up-to-date!\n",
            "[nltk_data] Downloading package punkt to /root/nltk_data...\n",
            "[nltk_data]   Package punkt is already up-to-date!\n"
          ]
        }
      ],
      "source": [
        "import nltk\n",
        "nltk.download('stopwords')\n",
        "nltk.download('punkt')\n",
        "from nltk.corpus import stopwords\n",
        "\n",
        "stopwords_en=stopwords.words(\"english\")\n",
        "\n",
        "def preprocessing(raw):\n",
        "    wordlist=nltk.word_tokenize(raw) \n",
        "    text=[w.lower() for w in wordlist if w not in stopwords_en] \n",
        "    return text\n",
        "\n",
        "file1=open('t1.txt','r',encoding=\"utf8\")\n",
        "doc1=preprocessing(file1.read())\n",
        "\n",
        "\n",
        "file2=open('t2.txt','r',encoding=\"utf8\")\n",
        "doc2=preprocessing(file2.read())"
      ]
    },
    {
      "cell_type": "code",
      "source": [
        "from nltk.probability import FreqDist\n",
        "word_set=set(doc2).union(set(doc1))\n",
        "\n",
        "freq_doc1=FreqDist(doc1)\n",
        "doc1_length=len(doc1)\n",
        "doc1_tf_dict=dict.fromkeys(word_set,0)\n",
        "for word in doc1:\n",
        "  doc1_tf_dict[word]=freq_doc1[word]/doc1_length\n",
        "\n",
        "freq_doc2=FreqDist(doc2)\n",
        "doc2_length=len(doc2)\n",
        "doc2_tf_dict=dict.fromkeys(word_set,0)\n",
        "for word in doc2:\n",
        "  doc2_tf_dict[word]=freq_doc2[word]/doc2_length\n",
        "\n",
        "\n"
      ],
      "metadata": {
        "id": "6fTSfc5entky"
      },
      "execution_count": null,
      "outputs": []
    },
    {
      "cell_type": "code",
      "source": [
        "doc12_idf_dict=dict.fromkeys(word_set,0)\n",
        "doc12_length=2\n",
        "\n",
        "for word in doc12_idf_dict.keys(): \n",
        "  if word in doc1:\n",
        "    doc12_idf_dict[word]+=1\n",
        "  if word in doc2:\n",
        "    doc12_idf_dict[word]+=1\n",
        "\n",
        "import math\n",
        "for word,val in doc12_idf_dict.items():\n",
        "  doc12_idf_dict[word]=1+math.log(doc12_length/(float(val)))"
      ],
      "metadata": {
        "id": "7fuxtfISsQKi"
      },
      "execution_count": null,
      "outputs": []
    },
    {
      "cell_type": "code",
      "source": [
        "doc1_tfidf_dict=dict.fromkeys(word_set,0)\n",
        "for word in doc1:\n",
        "  doc1_tfidf_dict[word]=(doc1_tf_dict[word])*(doc12_idf_dict[word])\n",
        "\n",
        "doc2_tfidf_dict=dict.fromkeys(word_set,0)\n",
        "for word in doc2:\n",
        "  doc2_tfidf_dict[word]=(doc2_tf_dict[word])*(doc12_idf_dict[word])"
      ],
      "metadata": {
        "id": "2u748X5lugY9"
      },
      "execution_count": null,
      "outputs": []
    },
    {
      "cell_type": "code",
      "source": [
        "v1=list(doc1_tfidf_dict.values())\n",
        "v2=list(doc2_tfidf_dict.values())\n",
        "similarity=1-nltk.cluster.cosine_distance(v1,v2)\n",
        "print(\"Similarity : {:4.2f} %\".format(similarity*100))"
      ],
      "metadata": {
        "id": "gt9HmJFAvCcp",
        "colab": {
          "base_uri": "https://localhost:8080/"
        },
        "outputId": "876915bc-6a2f-4d6d-86dd-44aa78206cc4"
      },
      "execution_count": null,
      "outputs": [
        {
          "output_type": "stream",
          "name": "stdout",
          "text": [
            "Similarity : 53.92 %\n"
          ]
        }
      ]
    }
  ]
}